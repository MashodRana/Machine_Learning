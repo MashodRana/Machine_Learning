{
 "cells": [
  {
   "cell_type": "markdown",
   "metadata": {},
   "source": [
    "# Linear Regression with TF from scratch"
   ]
  },
  {
   "cell_type": "markdown",
   "metadata": {},
   "source": [
    "#### Package Importing"
   ]
  },
  {
   "cell_type": "code",
   "execution_count": 1,
   "metadata": {},
   "outputs": [],
   "source": [
    "import tensorflow as tf\n",
    "import numpy as np\n",
    "import pandas as pd\n",
    "import os\n",
    "import matplotlib.pyplot as plt\n",
    "from tqdm import tqdm"
   ]
  },
  {
   "cell_type": "markdown",
   "metadata": {},
   "source": [
    "#### Obataing data from the file"
   ]
  },
  {
   "cell_type": "code",
   "execution_count": 2,
   "metadata": {},
   "outputs": [
    {
     "data": {
      "text/html": [
       "<div>\n",
       "<style scoped>\n",
       "    .dataframe tbody tr th:only-of-type {\n",
       "        vertical-align: middle;\n",
       "    }\n",
       "\n",
       "    .dataframe tbody tr th {\n",
       "        vertical-align: top;\n",
       "    }\n",
       "\n",
       "    .dataframe thead th {\n",
       "        text-align: right;\n",
       "    }\n",
       "</style>\n",
       "<table border=\"1\" class=\"dataframe\">\n",
       "  <thead>\n",
       "    <tr style=\"text-align: right;\">\n",
       "      <th></th>\n",
       "      <th>X</th>\n",
       "      <th>Y</th>\n",
       "    </tr>\n",
       "  </thead>\n",
       "  <tbody>\n",
       "    <tr>\n",
       "      <td>0</td>\n",
       "      <td>6.1101</td>\n",
       "      <td>17.5920</td>\n",
       "    </tr>\n",
       "    <tr>\n",
       "      <td>1</td>\n",
       "      <td>5.5277</td>\n",
       "      <td>9.1302</td>\n",
       "    </tr>\n",
       "    <tr>\n",
       "      <td>2</td>\n",
       "      <td>8.5186</td>\n",
       "      <td>13.6620</td>\n",
       "    </tr>\n",
       "    <tr>\n",
       "      <td>3</td>\n",
       "      <td>7.0032</td>\n",
       "      <td>11.8540</td>\n",
       "    </tr>\n",
       "    <tr>\n",
       "      <td>4</td>\n",
       "      <td>5.8598</td>\n",
       "      <td>6.8233</td>\n",
       "    </tr>\n",
       "  </tbody>\n",
       "</table>\n",
       "</div>"
      ],
      "text/plain": [
       "        X        Y\n",
       "0  6.1101  17.5920\n",
       "1  5.5277   9.1302\n",
       "2  8.5186  13.6620\n",
       "3  7.0032  11.8540\n",
       "4  5.8598   6.8233"
      ]
     },
     "execution_count": 2,
     "metadata": {},
     "output_type": "execute_result"
    }
   ],
   "source": [
    "# path of the dataset\n",
    "dataset_file = \"./dataset/example1_data.csv\"\n",
    "\n",
    "# Read dataset\n",
    "DF = pd.read_csv(dataset_file)\n",
    "\n",
    "# See few data\n",
    "DF.head()"
   ]
  },
  {
   "cell_type": "code",
   "execution_count": 3,
   "metadata": {},
   "outputs": [],
   "source": [
    "# Obtain data into variables\n",
    "featureset = DF['X'].values.reshape(-1,1)\n",
    "target = DF['Y'].values.reshape(-1,1)"
   ]
  },
  {
   "cell_type": "markdown",
   "metadata": {},
   "source": [
    "#### Visualizing data"
   ]
  },
  {
   "cell_type": "code",
   "execution_count": 4,
   "metadata": {},
   "outputs": [
    {
     "data": {
      "text/plain": [
       "Text(0, 0.5, 'Profit in $10,000s')"
      ]
     },
     "execution_count": 4,
     "metadata": {},
     "output_type": "execute_result"
    },
    {
     "data": {
      "image/png": "[encoded data removed]",
      "text/plain": [
       "<Figure size 432x288 with 1 Axes>"
      ]
     },
     "metadata": {
      "needs_background": "light"
     },
     "output_type": "display_data"
    }
   ],
   "source": [
    "plt.scatter(featureset,target,marker='x',c='red')\n",
    "plt.xlabel(\"Population of City in 10,000s\")\n",
    "plt.ylabel(\"Profit in $10,000s\")"
   ]
  },
  {
   "cell_type": "markdown",
   "metadata": {},
   "source": [
    "#### Knowing the dataset information"
   ]
  },
  {
   "cell_type": "code",
   "execution_count": 5,
   "metadata": {},
   "outputs": [
    {
     "name": "stdout",
     "output_type": "stream",
     "text": [
      "Number of feature:  1\n",
      "Number of target:  97\n",
      "Number of training examples:  97\n"
     ]
    }
   ],
   "source": [
    "\n",
    "print(\"Number of feature: \", featureset.shape[1])\n",
    "print(\"Number of target: \", target.shape[0])\n",
    "print(\"Number of training examples: \", target.shape[0]) \n"
   ]
  },
  {
   "cell_type": "markdown",
   "metadata": {},
   "source": [
    "### Building necessary method for LR"
   ]
  },
  {
   "cell_type": "code",
   "execution_count": 6,
   "metadata": {},
   "outputs": [],
   "source": [
    "def compute_cost_grad(X, y, thetas):\n",
    "    \"\"\" This method calculate cost and gradient  \"\"\"\n",
    "    # Number of training examples\n",
    "    m = int(y.shape[0])\n",
    "    hx = tf.matmul( X, tf.transpose(thetas) )\n",
    "    cost = tf.reduce_sum(tf.square(hx-y), axis=0) / (2*m)\n",
    "    grad = tf.matmul(tf.transpose(hx-y), X)\n",
    "    \n",
    "    return cost, grad\n",
    "\n",
    "def predictions(X, thetas):\n",
    "    return tf.matmul( X, tf.transpose(thetas) )\n",
    "\n",
    "def gradient_descent(X, y, thetas, lr, itr):\n",
    "    \"\"\" Updating parameter thetas by gradient descent \"\"\"\n",
    "    \n",
    "    # Number of training examples\n",
    "    m = int(y.shape[0])\n",
    "    \n",
    "    costs = []\n",
    "    \n",
    "    for i in tqdm(range(itr)):\n",
    "        # Compute cost and grad\n",
    "        cost, grad = compute_cost_grad(X, y, thetas)\n",
    "        \n",
    "        # Updating parameter theta\n",
    "        thetas = thetas - (lr/m) * grad\n",
    "        \n",
    "        costs.append(cost)\n",
    "    predicted = predictions(X, thetas)\n",
    "    results = {\n",
    "        'costs': costs,\n",
    "        'theta': thetas,\n",
    "        'predicted': predicted\n",
    "    }\n",
    "    return results"
   ]
  },
  {
   "cell_type": "markdown",
   "metadata": {},
   "source": [
    "#### Setting up for training Linear Regrassion with TF"
   ]
  },
  {
   "cell_type": "code",
   "execution_count": 7,
   "metadata": {},
   "outputs": [
    {
     "name": "stderr",
     "output_type": "stream",
     "text": [
      "100%|██████████| 400/400 [00:04<00:00, 81.76it/s]\n"
     ]
    }
   ],
   "source": [
    "itr = 400 # Number of iterations\n",
    "lr = 0.01 # Learning rate\n",
    "\n",
    "# Add intercept term \n",
    "xtrain = np.hstack((np.ones(featureset.shape), featureset)) # adding a column full with value on1\n",
    "ytrain = target\n",
    "m = ytrain.shape[0] # number of training example\n",
    "\n",
    "# Create plceholder to feed during training time\n",
    "X = tf.placeholder(tf.float32, xtrain.shape)\n",
    "y = tf.placeholder(tf.float32, ytrain.shape)\n",
    "\n",
    "# Initialize parameter theta with zeros\n",
    "thetas = tf.Variable( tf.zeros((1, xtrain.shape[1]), tf.float32) )\n",
    "\n",
    "# Create initializer for initializing global variables\n",
    "init = tf.global_variables_initializer()\n",
    "\n",
    "# Building training on tensoflow\n",
    "train = gradient_descent(X, y, thetas, lr, itr)"
   ]
  },
  {
   "cell_type": "markdown",
   "metadata": {},
   "source": [
    "#### Run the training with tensorflow session"
   ]
  },
  {
   "cell_type": "code",
   "execution_count": 8,
   "metadata": {},
   "outputs": [],
   "source": [
    "with tf.Session() as sess:\n",
    "    sess.run(init)\n",
    "    results = sess.run(train, feed_dict={X:xtrain, y:ytrain})\n"
   ]
  },
  {
   "cell_type": "markdown",
   "metadata": {},
   "source": [
    "#### Plot Cost Function"
   ]
  },
  {
   "cell_type": "code",
   "execution_count": 9,
   "metadata": {},
   "outputs": [
    {
     "data": {
      "image/png": "[encoded data removed]",
      "text/plain": [
       "<Figure size 432x288 with 1 Axes>"
      ]
     },
     "metadata": {
      "needs_background": "light"
     },
     "output_type": "display_data"
    }
   ],
   "source": [
    "plt.plot(results['costs'])\n",
    "plt.xlabel(\"# iteration\")\n",
    "plt.ylabel(\"cost\")\n",
    "plt.title('Cost reducing graph')\n",
    "plt.legend(['learning rate 0.01'])\n",
    "plt.show()"
   ]
  },
  {
   "cell_type": "markdown",
   "metadata": {},
   "source": [
    "#### Plot Linear Fit"
   ]
  },
  {
   "cell_type": "code",
   "execution_count": 10,
   "metadata": {},
   "outputs": [
    {
     "data": {
      "text/plain": [
       "Text(0.5, 1.0, 'Linear Fit')"
      ]
     },
     "execution_count": 10,
     "metadata": {},
     "output_type": "execute_result"
    },
    {
     "data": {
      "image/png": "[encoded data removed]",
      "text/plain": [
       "<Figure size 432x288 with 1 Axes>"
      ]
     },
     "metadata": {
      "needs_background": "light"
     },
     "output_type": "display_data"
    }
   ],
   "source": [
    "# Ploting features\n",
    "plt.scatter(featureset,target,marker='x',c='red')\n",
    "plt.xlabel(\"Population of City in 10,000s\")\n",
    "plt.ylabel(\"Profit in $10,000s\")\n",
    "\n",
    "# Ploting Linear line\n",
    "plt.plot(featureset, results['predicted'], c='g')\n",
    "plt.title('Linear Fit')"
   ]
  },
  {
   "cell_type": "code",
   "execution_count": null,
   "metadata": {},
   "outputs": [],
   "source": []
  },
  {
   "cell_type": "markdown",
   "metadata": {},
   "source": [
    "## Multivariate Linear Regression\n",
    "#### Obataing data from the file"
   ]
  },
  {
   "cell_type": "code",
   "execution_count": 11,
   "metadata": {},
   "outputs": [
    {
     "data": {
      "text/html": [
       "<div>\n",
       "<style scoped>\n",
       "    .dataframe tbody tr th:only-of-type {\n",
       "        vertical-align: middle;\n",
       "    }\n",
       "\n",
       "    .dataframe tbody tr th {\n",
       "        vertical-align: top;\n",
       "    }\n",
       "\n",
       "    .dataframe thead th {\n",
       "        text-align: right;\n",
       "    }\n",
       "</style>\n",
       "<table border=\"1\" class=\"dataframe\">\n",
       "  <thead>\n",
       "    <tr style=\"text-align: right;\">\n",
       "      <th></th>\n",
       "      <th>x1</th>\n",
       "      <th>x2</th>\n",
       "      <th>y</th>\n",
       "    </tr>\n",
       "  </thead>\n",
       "  <tbody>\n",
       "    <tr>\n",
       "      <td>0</td>\n",
       "      <td>2104</td>\n",
       "      <td>3</td>\n",
       "      <td>399900</td>\n",
       "    </tr>\n",
       "    <tr>\n",
       "      <td>1</td>\n",
       "      <td>1600</td>\n",
       "      <td>3</td>\n",
       "      <td>329900</td>\n",
       "    </tr>\n",
       "    <tr>\n",
       "      <td>2</td>\n",
       "      <td>2400</td>\n",
       "      <td>3</td>\n",
       "      <td>369000</td>\n",
       "    </tr>\n",
       "    <tr>\n",
       "      <td>3</td>\n",
       "      <td>1416</td>\n",
       "      <td>2</td>\n",
       "      <td>232000</td>\n",
       "    </tr>\n",
       "    <tr>\n",
       "      <td>4</td>\n",
       "      <td>3000</td>\n",
       "      <td>4</td>\n",
       "      <td>539900</td>\n",
       "    </tr>\n",
       "  </tbody>\n",
       "</table>\n",
       "</div>"
      ],
      "text/plain": [
       "     x1  x2       y\n",
       "0  2104   3  399900\n",
       "1  1600   3  329900\n",
       "2  2400   3  369000\n",
       "3  1416   2  232000\n",
       "4  3000   4  539900"
      ]
     },
     "execution_count": 11,
     "metadata": {},
     "output_type": "execute_result"
    }
   ],
   "source": [
    "# path of the dataset\n",
    "dataset_file = './dataset/ex1data2_multiple_features.csv'\n",
    "\n",
    "# Read dataset\n",
    "DF = pd.read_csv(dataset_file)\n",
    "# See few data\n",
    "DF.head()"
   ]
  },
  {
   "cell_type": "code",
   "execution_count": 12,
   "metadata": {},
   "outputs": [],
   "source": [
    "# Obtain data into variables\n",
    "featureset = DF.values[:,:2]\n",
    "target = DF.values[:,2].reshape(-1,1)"
   ]
  },
  {
   "cell_type": "markdown",
   "metadata": {},
   "source": [
    "#### Knowing the dataset information"
   ]
  },
  {
   "cell_type": "code",
   "execution_count": 13,
   "metadata": {},
   "outputs": [
    {
     "name": "stdout",
     "output_type": "stream",
     "text": [
      "Number of feature:  2\n",
      "Number of target:  47\n",
      "Number of training examples:  47\n"
     ]
    }
   ],
   "source": [
    "print(\"Number of feature: \", featureset.shape[1])\n",
    "print(\"Number of target: \", target.shape[0])\n",
    "print(\"Number of training examples: \", target.shape[0]) \n"
   ]
  },
  {
   "cell_type": "markdown",
   "metadata": {},
   "source": [
    "#### Feature Normalization"
   ]
  },
  {
   "cell_type": "code",
   "execution_count": 14,
   "metadata": {},
   "outputs": [],
   "source": [
    "def feature_normalizing(X):\n",
    "    mean = np.mean(X, axis=0)\n",
    "    std = np.std(X, axis=0)\n",
    "    return np.divide(X - mean, std), mean, std"
   ]
  },
  {
   "cell_type": "code",
   "execution_count": 15,
   "metadata": {},
   "outputs": [],
   "source": [
    "x_norm, mean, std = feature_normalizing(featureset)"
   ]
  },
  {
   "cell_type": "code",
   "execution_count": 16,
   "metadata": {},
   "outputs": [
    {
     "name": "stderr",
     "output_type": "stream",
     "text": [
      "100%|██████████| 400/400 [00:04<00:00, 82.78it/s]\n"
     ]
    }
   ],
   "source": [
    "itr = 400 # Number of iterations\n",
    "lr = 0.01 # Learning rate\n",
    "\n",
    "# Add intercept term \n",
    "xtrain = np.hstack((np.ones(x_norm.shape), x_norm)) # adding a column full with value on1\n",
    "ytrain = target\n",
    "m = ytrain.shape[0] # number of training example\n",
    "\n",
    "# Create plceholder to feed during training time\n",
    "X = tf.placeholder(tf.float32, xtrain.shape)\n",
    "y = tf.placeholder(tf.float32, ytrain.shape)\n",
    "\n",
    "# Initialize parameter theta with zeros\n",
    "thetas = tf.Variable( tf.zeros((1, xtrain.shape[1]), tf.float32) )\n",
    "\n",
    "# Create initializer for initializing global variables\n",
    "init = tf.global_variables_initializer()\n",
    "\n",
    "# Building training on tensoflow\n",
    "train = gradient_descent(X, y, thetas, lr, itr)"
   ]
  },
  {
   "cell_type": "code",
   "execution_count": 17,
   "metadata": {},
   "outputs": [],
   "source": [
    "with tf.Session() as sess:\n",
    "    sess.run(init)\n",
    "    results = sess.run(train, feed_dict={X:xtrain, y:ytrain})"
   ]
  },
  {
   "cell_type": "code",
   "execution_count": 18,
   "metadata": {},
   "outputs": [
    {
     "data": {
      "image/png": "[encoded data removed]",
      "text/plain": [
       "<Figure size 432x288 with 1 Axes>"
      ]
     },
     "metadata": {
      "needs_background": "light"
     },
     "output_type": "display_data"
    }
   ],
   "source": [
    "plt.plot(results['costs'])\n",
    "plt.xlabel(\"# iteration\")\n",
    "plt.ylabel(\"cost\")\n",
    "plt.title('Cost reducing graph')\n",
    "plt.legend(['learning rate 0.01'])\n",
    "plt.show()"
   ]
  },
  {
   "cell_type": "code",
   "execution_count": null,
   "metadata": {},
   "outputs": [],
   "source": []
  }
 ],
 "metadata": {
  "kernelspec": {
   "display_name": "Python 3",
   "language": "python",
   "name": "python3"
  },
  "language_info": {
   "codemirror_mode": {
    "name": "ipython",
    "version": 3
   },
   "file_extension": ".py",
   "mimetype": "text/x-python",
   "name": "python",
   "nbconvert_exporter": "python",
   "pygments_lexer": "ipython3",
   "version": "3.7.4"
  }
 },
 "nbformat": 4,
 "nbformat_minor": 2
}
