{
 "cells": [
  {
   "cell_type": "code",
   "execution_count": 1,
   "metadata": {},
   "outputs": [],
   "source": [
    "import os\n",
    "import numpy as np\n",
    "import pandas as pd"
   ]
  },
  {
   "cell_type": "code",
   "execution_count": 2,
   "metadata": {},
   "outputs": [],
   "source": [
    "# Load the dataset\n",
    "path = \"./ex2\"\n",
    "dataset = pd.read_csv( os.path.join(path,\"ex2data1.txt\"), header=None )\n",
    "dataset.columns=[\"exam1\",\"exam2\",\"decisions\"]"
   ]
  },
  {
   "cell_type": "code",
   "execution_count": 3,
   "metadata": {},
   "outputs": [
    {
     "data": {
      "text/html": [
       "<div>\n",
       "<style scoped>\n",
       "    .dataframe tbody tr th:only-of-type {\n",
       "        vertical-align: middle;\n",
       "    }\n",
       "\n",
       "    .dataframe tbody tr th {\n",
       "        vertical-align: top;\n",
       "    }\n",
       "\n",
       "    .dataframe thead th {\n",
       "        text-align: right;\n",
       "    }\n",
       "</style>\n",
       "<table border=\"1\" class=\"dataframe\">\n",
       "  <thead>\n",
       "    <tr style=\"text-align: right;\">\n",
       "      <th></th>\n",
       "      <th>exam1</th>\n",
       "      <th>exam2</th>\n",
       "      <th>decisions</th>\n",
       "    </tr>\n",
       "  </thead>\n",
       "  <tbody>\n",
       "    <tr>\n",
       "      <td>0</td>\n",
       "      <td>34.623660</td>\n",
       "      <td>78.024693</td>\n",
       "      <td>0</td>\n",
       "    </tr>\n",
       "    <tr>\n",
       "      <td>1</td>\n",
       "      <td>30.286711</td>\n",
       "      <td>43.894998</td>\n",
       "      <td>0</td>\n",
       "    </tr>\n",
       "    <tr>\n",
       "      <td>2</td>\n",
       "      <td>35.847409</td>\n",
       "      <td>72.902198</td>\n",
       "      <td>0</td>\n",
       "    </tr>\n",
       "    <tr>\n",
       "      <td>3</td>\n",
       "      <td>60.182599</td>\n",
       "      <td>86.308552</td>\n",
       "      <td>1</td>\n",
       "    </tr>\n",
       "    <tr>\n",
       "      <td>4</td>\n",
       "      <td>79.032736</td>\n",
       "      <td>75.344376</td>\n",
       "      <td>1</td>\n",
       "    </tr>\n",
       "  </tbody>\n",
       "</table>\n",
       "</div>"
      ],
      "text/plain": [
       "       exam1      exam2  decisions\n",
       "0  34.623660  78.024693          0\n",
       "1  30.286711  43.894998          0\n",
       "2  35.847409  72.902198          0\n",
       "3  60.182599  86.308552          1\n",
       "4  79.032736  75.344376          1"
      ]
     },
     "execution_count": 3,
     "metadata": {},
     "output_type": "execute_result"
    }
   ],
   "source": [
    "dataset.head()"
   ]
  },
  {
   "cell_type": "code",
   "execution_count": 4,
   "metadata": {},
   "outputs": [],
   "source": [
    "#extract dataset into featureset and target\n",
    "featureset = dataset.values[:,:2]\n",
    "target = dataset.values[:,2].reshape(-1,1)"
   ]
  },
  {
   "cell_type": "code",
   "execution_count": 5,
   "metadata": {},
   "outputs": [
    {
     "name": "stdout",
     "output_type": "stream",
     "text": [
      "(100, 2)\n",
      "(100, 1)\n"
     ]
    }
   ],
   "source": [
    "# display the shape of featureset and target\n",
    "print(featureset.shape)\n",
    "print(target.shape)"
   ]
  },
  {
   "cell_type": "code",
   "execution_count": 6,
   "metadata": {},
   "outputs": [],
   "source": [
    "#visulaize the dataset\n",
    "from matplotlib import pyplot as plt\n"
   ]
  },
  {
   "cell_type": "code",
   "execution_count": 7,
   "metadata": {},
   "outputs": [
    {
     "data": {
      "text/plain": [
       "Text(0.5, 1.0, 'Data Visulizations')"
      ]
     },
     "execution_count": 7,
     "metadata": {},
     "output_type": "execute_result"
    },
    {
     "data": {
      "image/png": "[encoded data removed]",
      "text/plain": [
       "<Figure size 432x288 with 1 Axes>"
      ]
     },
     "metadata": {
      "needs_background": "light"
     },
     "output_type": "display_data"
    }
   ],
   "source": [
    "zeros = target==0\n",
    "ones = target==1\n",
    "plt.scatter( featureset[ ones[:,0], 0 ], featureset[ ones[:,0], 1 ], marker='+', color='g' )\n",
    "plt.scatter( featureset[ zeros[:,0], 0 ], featureset[zeros[:,0],1] , marker=0, color='r')\n",
    "plt.xlabel('Exam1 Score')\n",
    "plt.ylabel('Exam2 Score')\n",
    "plt.legend([\"Passed in the exam\",\"Fail in the exam\"])\n",
    "plt.title(\"Data Visulizations\")"
   ]
  },
  {
   "cell_type": "markdown",
   "metadata": {},
   "source": [
    "### Logistic Regression\n",
    "Logistic Regression is a classification problem.\n",
    "Some popular classification problem is spam classification, Classifying online transaction, tumour classification etc.\n",
    "In classificatin probelm we try to predict a variable y which is taking two values either zero or one, spam or non-spam, fraudulent or not fraudulent, malignant or benign. Zero is also known as negative and one as positive.\n",
    "> Logistic Regression is a classification problem where label **y** is discrete value.\n",
    "\n",
    "> there is this intuition that a negative class is conveying the absence of something like the absence of a malignant tumor. Whereas one the positive class is conveying the presence of something that we may be looking for\n",
    "\n",
    "#### Why Linear Regression shouldn't use for classification problem?\n",
    "- Most two important reason is \n",
    " 1. Predicted Values are continuous not probabilistic\n",
    " 2. Sensitive to imbalance data\n",
    "- Details Reading\n",
    "    1. [Why not approach classification through regression?](https://stats.stackexchange.com/questions/22381/why-not-approach-classification-through-regression)\n",
    "    2. [Why Linear Regression is not suitable for Classification](https://jinglescode.github.io/datascience/2019/05/07/why-linear-regression-is-not-suitable-for-classification/)\n",
    "    3. [Why Linear Regression is not fit for Classification Problem](https://medium.com/datadriveninvestor/why-linear-regression-is-not-fit-for-classification-problem-ccf162147361)\n",
    "\n",
    "For Logistice Regression, our hypothesis should satisfy the property which is predictions should be between $0$ and $1$.\n",
    "\n",
    "In linear regression hypothesis is $h_\\theta(x)=\\theta^Tx$.<br>\n",
    "And Hypothesis of the Logistic Regression is\n",
    "\n",
    "$$h_\\theta(x)=g(\\theta^Tx)$$\n",
    "$$\\theta^Tx=\\theta_0+\\theta_1x_1$$\n",
    "Where, $g$ is the sigmoid function(also known as logistic function).\n",
    "$$Sigmoid function, g(z) = \\frac{1}{1+e^{-z}}$$\n",
    "We can write like this\n",
    "$$h_\\theta(x)=g(\\theta^Tx)=\\frac{1}{1+e^{-\\theta^Tx}}$$\n",
    "\n",
    "So what we need to do is, given the hypothesis $h_\\theta(x)$ and we will find the value for parameters $\\theta$ to fit the model based on training data. To predict we will use the selected value for parameters $\\theta$.\n",
    "\n",
    "Let's we get the ouput from the $h_\\theta(x)$ and which is a number. We are goning to treate this number as the probability of $y=1 or y=0$ for input $x$.\n",
    "The LR can express as probability of the default class.\n",
    "Lets we want to decide the male or female based on their heights. So we can write as,\n",
    "$$P(sex=male|height)$$\n",
    "Generally we try to find $P(x)$ for class $y=1$ where featureset $x$ is given,\n",
    "$$P(x)=P(y=1|x)$$\n",
    "and we transformed the $P(x)$ into binary value 0 or 1 through the sigmoid function."
   ]
  },
  {
   "cell_type": "code",
   "execution_count": 2,
   "metadata": {},
   "outputs": [],
   "source": [
    "\n",
    "# implementation of sigmoid function\n",
    "def sigmoid(z):\n",
    "    '''\n",
    "    z: should be an numpy array\n",
    "    '''\n",
    "    return 1/(1+np.exp(-z))"
   ]
  },
  {
   "cell_type": "markdown",
   "metadata": {},
   "source": [
    "#### Cost function of the Logistic Regression\n",
    "$$J(\\theta)=\\frac{1}{m}\\sum\\limits_{i=1}^m[-y^i \\log(h_\\theta(x^i))-(1-y^i)\\log(1-h_\\theta(x^i))]$$\n",
    "#### Gradient of the Cost function\n",
    "$$\\frac{\\partial J(\\theta)}{\\partial \\theta_j} = \\frac{1}{m}\\sum\\limits_{i=1}^m (h_\\theta(x^i)-y^i)x^i_j$$"
   ]
  },
  {
   "cell_type": "code",
   "execution_count": 9,
   "metadata": {},
   "outputs": [],
   "source": [
    "def compute_cost(X, y, theta):\n",
    "    m = y.shape[0] #number of data points\n",
    "    \n",
    "    # compute hypothesis\n",
    "    hx = sigmoid( np.dot(X,theta.T) ) \n",
    "    \n",
    "    # compute cost\n",
    "    cost = (1/m) * np.sum( ( -y*np.log(hx) - (1-y)*np.log(1-hx) ) ,axis=0 )\n",
    "    \n",
    "    # calculate difference between predictions and orginal value\n",
    "    grad = (1/m)*np.dot(X.T,hx-y).T\n",
    "    \n",
    "    return cost[0], grad\n",
    "def featureNormalization(X):\n",
    "    \"\"\"\n",
    "    Take in numpy array of X values and return normalize X values,\n",
    "    the mean and standard deviation of each feature\n",
    "    \"\"\"\n",
    "    mean=np.mean(X,axis=0)\n",
    "    std=np.std(X,axis=0)\n",
    "    \n",
    "    X_norm = (X - mean)/std\n",
    "    \n",
    "    return X_norm , mean , std"
   ]
  },
  {
   "cell_type": "code",
   "execution_count": 10,
   "metadata": {},
   "outputs": [
    {
     "name": "stdout",
     "output_type": "stream",
     "text": [
      "0.6931471805599453\n",
      "[[-0.1        -0.28122914 -0.25098615]]\n",
      "==================\n",
      "14.293556943786108\n",
      "[[-0.6        -0.28122914 -0.25098615]]\n"
     ]
    }
   ],
   "source": [
    "y = target\n",
    "m=y.shape[0]\n",
    "X,_,_ = featureNormalization(featureset)\n",
    "X = np.append( np.ones((m,1)), X, axis=1 )\n",
    "theta = np.zeros((1,X.shape[1]))\n",
    "cost,grad = compute_cost(X,y,theta)\n",
    "print(cost)\n",
    "print(grad)\n",
    "print(\"==================\")\n",
    "cost, grad = compute_cost(X, y, np.array([-24,0.2, 0.2]).reshape(1,-1))\n",
    "print(cost)\n",
    "print(grad)"
   ]
  },
  {
   "cell_type": "code",
   "execution_count": 11,
   "metadata": {},
   "outputs": [],
   "source": [
    "def gradient_descent(X, y, theta, learning_rate, iterations=400):\n",
    "    costs = []\n",
    "    for itr in range(iterations):\n",
    "        cost, grad = compute_cost(X, y, theta)\n",
    "        theta = theta - learning_rate*grad\n",
    "        costs.append(cost)\n",
    "    \n",
    "    return costs, theta\n",
    "        "
   ]
  },
  {
   "cell_type": "code",
   "execution_count": 12,
   "metadata": {},
   "outputs": [],
   "source": [
    "alphas = [0.01, 0.05, 0.1, 0.5, 1.0]\n",
    "parameters =[]\n",
    "init_theta = np.zeros((1,X.shape[1]))\n",
    "for alpha in alphas:\n",
    "    costs,theta = gradient_descent( X, y, init_theta, alpha )\n",
    "    parameters.append({\n",
    "        \"costs\":costs,\n",
    "        \"alpha\":alpha,\n",
    "        \"theta\":theta\n",
    "    })"
   ]
  },
  {
   "cell_type": "code",
   "execution_count": 17,
   "metadata": {},
   "outputs": [
    {
     "data": {
      "image/png": "[encoded data removed]",
      "text/plain": [
       "<Figure size 432x288 with 1 Axes>"
      ]
     },
     "metadata": {
      "needs_background": "light"
     },
     "output_type": "display_data"
    }
   ],
   "source": [
    "for param in parameters:\n",
    "    plt.plot(param[\"costs\"])\n",
    "plt.xlabel(\"Iteration\")\n",
    "plt.ylabel(\"$J(\\Theta)$\")\n",
    "plt.title(\"Cost function using Gradient Descent\")\n",
    "plt.legend(alphas)\n",
    "plt.show()"
   ]
  },
  {
   "cell_type": "code",
   "execution_count": 18,
   "metadata": {},
   "outputs": [],
   "source": [
    "optimal_parameters={}\n",
    "for params in parameters:\n",
    "    if(params[\"alpha\"]==1.0):\n",
    "        optimal_parameters[\"theta\"] = params['theta']\n",
    "        optimal_parameters['alpha'] = 1.0\n",
    "        optimal_parameters['cost']=params['costs'][-1]\n"
   ]
  },
  {
   "cell_type": "code",
   "execution_count": 20,
   "metadata": {},
   "outputs": [],
   "source": [
    "predictions = sigmoid(np.dot(X,optimal_parameters['theta'].T))"
   ]
  },
  {
   "cell_type": "code",
   "execution_count": 26,
   "metadata": {},
   "outputs": [],
   "source": [
    "predictions= predictions>=0.5\n"
   ]
  },
  {
   "cell_type": "code",
   "execution_count": 37,
   "metadata": {},
   "outputs": [],
   "source": [
    "Xboundary = np.array([np.min(X[:,1]), np.max(X[:,1])]).reshape(-1,1)\n",
    "Theta = optimal_parameters['theta'].flatten()\n",
    "yboundary = -(Theta[0]+Theta[1]*Xboundary)/Theta[2]"
   ]
  },
  {
   "cell_type": "code",
   "execution_count": 44,
   "metadata": {},
   "outputs": [
    {
     "data": {
      "image/png": "[encoded data removed]",
      "text/plain": [
       "<Figure size 604.8x489.6 with 1 Axes>"
      ]
     },
     "metadata": {
      "needs_background": "light"
     },
     "output_type": "display_data"
    }
   ],
   "source": [
    "plt.figure(figsize=(8.4, 6.8))\n",
    "plt.scatter( X[ ones[:,0], 1 ], X[ ones[:,0], 2 ], marker='+', color='g' )\n",
    "plt.scatter( X[ zeros[:,0], 1 ], X[zeros[:,0],2] , marker=0, color='r')\n",
    "plt.plot(Xboundary,yboundary)\n",
    "plt.xlabel('Exam1 Score')\n",
    "plt.ylabel('Exam2 Score')\n",
    "plt.legend([\"boundary\",\"Passed in the exam\",\"Fail in the exam\"])\n",
    "plt.title(\"Data Visulizations\")\n",
    "plt.grid()\n",
    "plt.show()\n"
   ]
  },
  {
   "cell_type": "markdown",
   "metadata": {},
   "source": [
    "# Regularized Logistic Regression"
   ]
  },
  {
   "cell_type": "code",
   "execution_count": 1,
   "metadata": {},
   "outputs": [],
   "source": [
    "import numpy as np\n",
    "import pandas as pd\n",
    "import matplotlib.pyplot as plt\n",
    "import os"
   ]
  },
  {
   "cell_type": "code",
   "execution_count": 2,
   "metadata": {},
   "outputs": [],
   "source": [
    "# Load Dataset\n",
    "path = \"./ex2\"\n",
    "dataset = pd.read_csv(os.path.join(path,'ex2data2.txt'),header=None)\n",
    "dataset.columns = [\"test_1\",\"test_2\",\"result\"]"
   ]
  },
  {
   "cell_type": "code",
   "execution_count": 3,
   "metadata": {},
   "outputs": [],
   "source": [
    "# get the input feature and target feature\n",
    "featureset = dataset.values[:,:2]\n",
    "target = dataset.values[:,2].reshape(-1,1)\n",
    "m = target.shape[0] # number of data points"
   ]
  },
  {
   "cell_type": "code",
   "execution_count": 4,
   "metadata": {},
   "outputs": [
    {
     "data": {
      "text/plain": [
       "<matplotlib.legend.Legend at 0x7f6f88261110>"
      ]
     },
     "execution_count": 4,
     "metadata": {},
     "output_type": "execute_result"
    },
    {
     "data": {
      "image/png": "[encoded data removed]",
      "text/plain": [
       "<Figure size 432x288 with 1 Axes>"
      ]
     },
     "metadata": {
      "needs_background": "light"
     },
     "output_type": "display_data"
    }
   ],
   "source": [
    "# Visualize the data\n",
    "ones = target==1\n",
    "zeros = target==0\n",
    "plt.scatter(featureset[ones[:,0],0], featureset[ones[:,0],1])\n",
    "plt.scatter(featureset[zeros[:,0],0], featureset[zeros[:,0],1])\n",
    "plt.xlabel(\"Microchip Test-1\")\n",
    "plt.ylabel(\"Microchip Test-2\")\n",
    "plt.title(\"Plot of training Data\")\n",
    "plt.legend([\"accepted\",'rejected'])"
   ]
  },
  {
   "cell_type": "code",
   "execution_count": 5,
   "metadata": {},
   "outputs": [],
   "source": [
    "# implementation of sigmoid function\n",
    "def sigmoid(z):\n",
    "    '''\n",
    "    z: should be an numpy array\n",
    "    '''\n",
    "    return 1/(1+np.exp(-z))"
   ]
  },
  {
   "cell_type": "code",
   "execution_count": 6,
   "metadata": {},
   "outputs": [],
   "source": [
    "def feature_mapping(X1,X2):\n",
    "    degree = 7\n",
    "    mapped_data = np.ones((X1.shape[0],1))\n",
    "    for i in range(1,degree):\n",
    "        for j in range(i+1):\n",
    "            mm = (np.power(X1,i-j)*np.power(X2,j)).reshape(-1,1)\n",
    "            mapped_data = np.append(mapped_data,mm,axis=1)\n",
    "#     print(mapped_data.shape)\n",
    "    return mapped_data\n"
   ]
  },
  {
   "cell_type": "code",
   "execution_count": 15,
   "metadata": {},
   "outputs": [],
   "source": [
    "def compute_regularized_cost( thetas, X, y, _lambda):\n",
    "    m = y.shape[0]\n",
    "#     print(\"thetas shape: \",thetas.shape)\n",
    "#     print(\"X shape: \",X.shape)\n",
    "    hx = sigmoid( np.dot(X, thetas.T) )\n",
    "    error = -y*np.log(hx) - (1-y)*np.log(1-hx)    \n",
    "    cost = np.sum(error, axis=0)/m    \n",
    "    reg_term = _lambda/(2*m) * np.sum( np.power(thetas,2), axis=1 )\n",
    "    print(\"cost shape: \",reg_term.shape)\n",
    "    reg_cost = cost + reg_term\n",
    "    \n",
    "    grad_0 = np.dot(X[:,0].T,(hx-y))/m\n",
    "    grad_1 = np.dot(X[:,1:].T,(hx-y))/m\n",
    "#     print(grad_0.shape)\n",
    "#     print(grad_1.shape)\n",
    "    grad   = np.append(grad_0, grad_1.flatten()).reshape(1,-1)\n",
    "#     print(\"grad shape: \",reg_cost.shape)\n",
    "    return reg_cost[0], grad"
   ]
  },
  {
   "cell_type": "code",
   "execution_count": 8,
   "metadata": {},
   "outputs": [],
   "source": [
    "def gradient_descent(X, y, thetas, alpha, _lambda, iterations):\n",
    "    costs = []\n",
    "    for i in range(iterations):\n",
    "        cost, grad = compute_regularized_cost( X, y, thetas, _lambda )\n",
    "        thetas = thetas - alpha*grad\n",
    "#         print(\"\\nThetas shape: \",thetas.shape)  \n",
    "        costs.append(cost)\n",
    "    return costs, thetas\n"
   ]
  },
  {
   "cell_type": "code",
   "execution_count": 12,
   "metadata": {},
   "outputs": [
    {
     "name": "stdout",
     "output_type": "stream",
     "text": [
      "cost shape:  (1,)\n"
     ]
    }
   ],
   "source": [
    "X = feature_mapping( featureset[:,0], featureset[:,1] )\n",
    "y = target\n",
    "theta = np.zeros( (1,X.shape[1]) )\n",
    "iterations = 400\n",
    "alpha = 0.2\n",
    "_lambda = 1\n",
    "# costs, thetas = gradient_descent(X, y, theta, alpha, _lambda, iterations)\n",
    "cost, thetas = compute_regularized_cost(theta, X, y, _lambda)"
   ]
  },
  {
   "cell_type": "code",
   "execution_count": 16,
   "metadata": {},
   "outputs": [
    {
     "name": "stdout",
     "output_type": "stream",
     "text": [
      "cost shape:  (1,)\n",
      "3.2068822129709416\n",
      "[[ 3.46045074e-01  7.66061566e-02  1.10049993e-01  1.42117020e-01\n",
      "   7.43991239e-03  1.59639814e-01  5.86463603e-02  2.36959523e-02\n",
      "   1.75686317e-02  9.87226948e-02  8.87842709e-02  2.50975573e-03\n",
      "   3.34819937e-02  1.09754196e-03  1.15203182e-01  5.04807645e-02\n",
      "   1.02295113e-02  8.81865218e-03  1.50520786e-02  6.65581097e-03\n",
      "   9.01066541e-02  6.48086550e-02  2.03989264e-03  1.42310951e-02\n",
      "   5.73747746e-04  1.71609001e-02 -2.43784101e-04  9.75374635e-02]]\n"
     ]
    }
   ],
   "source": [
    "cost, thetas = compute_regularized_cost(np.ones( (1,X.shape[1]) ), X, y, 10)\n",
    "print(cost)\n",
    "print(thetas)"
   ]
  },
  {
   "cell_type": "code",
   "execution_count": 97,
   "metadata": {},
   "outputs": [
    {
     "data": {
      "text/plain": [
       "[<matplotlib.lines.Line2D at 0x7f583b3139d0>]"
      ]
     },
     "execution_count": 97,
     "metadata": {},
     "output_type": "execute_result"
    },
    {
     "data": {
      "image/png": "[encoded data removed]",
      "text/plain": [
       "<Figure size 432x288 with 1 Axes>"
      ]
     },
     "metadata": {
      "needs_background": "light"
     },
     "output_type": "display_data"
    }
   ],
   "source": [
    "plt.plot(costs)"
   ]
  },
  {
   "cell_type": "code",
   "execution_count": 98,
   "metadata": {},
   "outputs": [],
   "source": [
    "from scipy import optimize"
   ]
  },
  {
   "cell_type": "code",
   "execution_count": 118,
   "metadata": {},
   "outputs": [],
   "source": [
    "X = feature_mapping( featureset[:,0], featureset[:,1] )\n",
    "y = target\n",
    "theta = np.zeros( (1,X.shape[1]) )\n",
    "option = {'maxiter':100}\n",
    "result = optimize.minimize(compute_regularized_cost,theta,(X,y,_lambda), jac=True,method='TNC',options=option )"
   ]
  },
  {
   "cell_type": "code",
   "execution_count": 119,
   "metadata": {},
   "outputs": [
    {
     "data": {
      "text/plain": [
       "     fun: 0.5800019324061126\n",
       "     jac: array([[ 7.00973031e-03,  3.14102867e-03,  1.99017198e-02,\n",
       "         1.08031115e-02,  5.40186744e-03,  2.50818232e-02,\n",
       "         2.92110273e-03,  4.66463247e-03,  9.12787759e-04,\n",
       "         1.88999600e-02,  8.44516740e-03,  9.58696036e-05,\n",
       "         5.08323052e-03,  7.95341246e-04,  2.09734564e-02,\n",
       "         3.77440533e-03,  1.59258728e-03,  1.05356115e-05,\n",
       "         3.35026024e-03,  4.87245808e-04,  1.61642645e-02,\n",
       "         6.50986737e-03, -2.79204911e-04,  2.02093426e-03,\n",
       "        -3.80352118e-04,  3.18884379e-03, -1.73784280e-04,\n",
       "         1.70542369e-02]])\n",
       " message: 'Linear search failed'\n",
       "    nfev: 85\n",
       "     nit: 1\n",
       "  status: 4\n",
       " success: False\n",
       "       x: array([ 1.60696221,  1.15602092,  1.96230683, -3.0506493 , -1.65703113,\n",
       "       -1.91904876,  0.57020869, -0.68153351, -0.71446924,  0.04581559,\n",
       "       -2.05403737, -0.1954372 , -1.06002815, -0.50146895, -1.49394462,\n",
       "        0.08870437, -0.37553842, -0.16212876, -0.47670376, -0.49928256,\n",
       "       -0.25753121, -1.25322375,  0.00804834, -0.51945923, -0.03978321,\n",
       "       -0.54273778, -0.21843774, -0.93050881])"
      ]
     },
     "execution_count": 119,
     "metadata": {},
     "output_type": "execute_result"
    }
   ],
   "source": [
    "result"
   ]
  },
  {
   "cell_type": "code",
   "execution_count": null,
   "metadata": {},
   "outputs": [],
   "source": []
  }
 ],
 "metadata": {
  "kernelspec": {
   "display_name": "Python 3",
   "language": "python",
   "name": "python3"
  },
  "language_info": {
   "codemirror_mode": {
    "name": "ipython",
    "version": 3
   },
   "file_extension": ".py",
   "mimetype": "text/x-python",
   "name": "python",
   "nbconvert_exporter": "python",
   "pygments_lexer": "ipython3",
   "version": "3.7.4"
  }
 },
 "nbformat": 4,
 "nbformat_minor": 2
}
