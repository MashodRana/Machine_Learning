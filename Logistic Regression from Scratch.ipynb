{
 "cells": [
  {
   "cell_type": "markdown",
   "metadata": {},
   "source": [
    "# Logistic Regression from Scratch"
   ]
  },
  {
   "cell_type": "code",
   "execution_count": 1,
   "metadata": {},
   "outputs": [],
   "source": [
    "import numpy as np\n",
    "import pandas as pd\n",
    "import os\n",
    "import matplotlib.pyplot as plt"
   ]
  },
  {
   "cell_type": "code",
   "execution_count": 2,
   "metadata": {},
   "outputs": [
    {
     "data": {
      "text/html": [
       "<div>\n",
       "<style scoped>\n",
       "    .dataframe tbody tr th:only-of-type {\n",
       "        vertical-align: middle;\n",
       "    }\n",
       "\n",
       "    .dataframe tbody tr th {\n",
       "        vertical-align: top;\n",
       "    }\n",
       "\n",
       "    .dataframe thead th {\n",
       "        text-align: right;\n",
       "    }\n",
       "</style>\n",
       "<table border=\"1\" class=\"dataframe\">\n",
       "  <thead>\n",
       "    <tr style=\"text-align: right;\">\n",
       "      <th></th>\n",
       "      <th>exam1</th>\n",
       "      <th>exam2</th>\n",
       "      <th>decision</th>\n",
       "    </tr>\n",
       "  </thead>\n",
       "  <tbody>\n",
       "    <tr>\n",
       "      <td>0</td>\n",
       "      <td>34.623660</td>\n",
       "      <td>78.024693</td>\n",
       "      <td>0</td>\n",
       "    </tr>\n",
       "    <tr>\n",
       "      <td>1</td>\n",
       "      <td>30.286711</td>\n",
       "      <td>43.894998</td>\n",
       "      <td>0</td>\n",
       "    </tr>\n",
       "    <tr>\n",
       "      <td>2</td>\n",
       "      <td>35.847409</td>\n",
       "      <td>72.902198</td>\n",
       "      <td>0</td>\n",
       "    </tr>\n",
       "    <tr>\n",
       "      <td>3</td>\n",
       "      <td>60.182599</td>\n",
       "      <td>86.308552</td>\n",
       "      <td>1</td>\n",
       "    </tr>\n",
       "    <tr>\n",
       "      <td>4</td>\n",
       "      <td>79.032736</td>\n",
       "      <td>75.344376</td>\n",
       "      <td>1</td>\n",
       "    </tr>\n",
       "  </tbody>\n",
       "</table>\n",
       "</div>"
      ],
      "text/plain": [
       "       exam1      exam2  decision\n",
       "0  34.623660  78.024693         0\n",
       "1  30.286711  43.894998         0\n",
       "2  35.847409  72.902198         0\n",
       "3  60.182599  86.308552         1\n",
       "4  79.032736  75.344376         1"
      ]
     },
     "execution_count": 2,
     "metadata": {},
     "output_type": "execute_result"
    }
   ],
   "source": [
    "path = './dataset'\n",
    "file_name = 'ex2data1.txt'\n",
    "dataset = pd.read_csv(os.path.join(path, file_name), header=None)\n",
    "dataset.columns = ['exam1', 'exam2', 'decision']\n",
    "dataset.head()"
   ]
  },
  {
   "cell_type": "code",
   "execution_count": 3,
   "metadata": {},
   "outputs": [
    {
     "name": "stdout",
     "output_type": "stream",
     "text": [
      "Number examples:  (100, 2)\n",
      "Number of features:  2\n",
      "(100, 2)\n",
      "(100,)\n"
     ]
    }
   ],
   "source": [
    "X = dataset.values[:, :2]\n",
    "y = dataset.values[:, 2]\n",
    "\n",
    "print('Number examples: ', X.shape)\n",
    "print('Number of features: ', X.shape[1])\n",
    "print(X.shape)\n",
    "print(y.shape)"
   ]
  },
  {
   "cell_type": "code",
   "execution_count": null,
   "metadata": {},
   "outputs": [],
   "source": []
  },
  {
   "cell_type": "code",
   "execution_count": 4,
   "metadata": {},
   "outputs": [],
   "source": [
    "def sigmoid(z):\n",
    "    \n",
    "    return 1 / ( 1 + np.exp(-z) )\n"
   ]
  },
  {
   "cell_type": "code",
   "execution_count": 5,
   "metadata": {},
   "outputs": [],
   "source": [
    "def feature_normalizations(X):\n",
    "    mean = np.mean(X, axis=0)\n",
    "    std = np.std(X, axis=0)\n",
    "    X = (X - mean) / std\n",
    "    return X, mean, std"
   ]
  },
  {
   "cell_type": "code",
   "execution_count": 6,
   "metadata": {},
   "outputs": [],
   "source": [
    "def compute_cost(X, y, theta):\n",
    "    m = X.shape[0]\n",
    "#     print(X.shape)\n",
    "#     print(theta.shape)\n",
    "    \n",
    "    \n",
    "    Z = np.dot(X, theta.T)\n",
    "    hx = sigmoid(Z)\n",
    "#     print(hx.shape)\n",
    "    cost = -(1/m) * np.sum((y * np.log(hx) + (1-y) * np.log(1-hx)), axis=0)\n",
    "    \n",
    "    grad = (1/m) * np.dot((hx-y).T, X)\n",
    "    return cost[0], grad\n",
    "    "
   ]
  },
  {
   "cell_type": "code",
   "execution_count": 7,
   "metadata": {},
   "outputs": [],
   "source": [
    "x_norm, mean, std = feature_normalizations(X)"
   ]
  },
  {
   "cell_type": "code",
   "execution_count": 8,
   "metadata": {},
   "outputs": [
    {
     "name": "stdout",
     "output_type": "stream",
     "text": [
      "0.6931471805599453\n"
     ]
    }
   ],
   "source": [
    "xtrain = np.hstack((np.ones((X.shape[0],1)),x_norm))\n",
    "theta = np.zeros((1, xtrain.shape[1]))\n",
    "cost,grad = compute_cost(xtrain,y.reshape(-1,1), theta)\n",
    "print(cost)\n"
   ]
  },
  {
   "cell_type": "code",
   "execution_count": 9,
   "metadata": {},
   "outputs": [],
   "source": [
    "def gradient_descent(X, y, theta, learning_rate, iterations):\n",
    "    costs = np.zeros(iterations)\n",
    "    for i in range(iterations):\n",
    "        cost, grad = compute_cost(X, y, theta)\n",
    "        theta = theta - learning_rate * grad\n",
    "        costs[i] = cost\n",
    "    return costs, theta"
   ]
  },
  {
   "cell_type": "code",
   "execution_count": 10,
   "metadata": {},
   "outputs": [],
   "source": [
    "learning_rate = 0.01\n",
    "iterations = 400\n",
    "costs, up_theta = gradient_descent(xtrain, y, theta, learning_rate, iterations)"
   ]
  },
  {
   "cell_type": "markdown",
   "metadata": {},
   "source": [
    "## Regularized Logistic Regression"
   ]
  },
  {
   "cell_type": "code",
   "execution_count": 11,
   "metadata": {},
   "outputs": [
    {
     "data": {
      "text/html": [
       "<div>\n",
       "<style scoped>\n",
       "    .dataframe tbody tr th:only-of-type {\n",
       "        vertical-align: middle;\n",
       "    }\n",
       "\n",
       "    .dataframe tbody tr th {\n",
       "        vertical-align: top;\n",
       "    }\n",
       "\n",
       "    .dataframe thead th {\n",
       "        text-align: right;\n",
       "    }\n",
       "</style>\n",
       "<table border=\"1\" class=\"dataframe\">\n",
       "  <thead>\n",
       "    <tr style=\"text-align: right;\">\n",
       "      <th></th>\n",
       "      <th>test_1</th>\n",
       "      <th>test_2</th>\n",
       "      <th>result</th>\n",
       "    </tr>\n",
       "  </thead>\n",
       "  <tbody>\n",
       "    <tr>\n",
       "      <td>0</td>\n",
       "      <td>0.051267</td>\n",
       "      <td>0.69956</td>\n",
       "      <td>1</td>\n",
       "    </tr>\n",
       "    <tr>\n",
       "      <td>1</td>\n",
       "      <td>-0.092742</td>\n",
       "      <td>0.68494</td>\n",
       "      <td>1</td>\n",
       "    </tr>\n",
       "    <tr>\n",
       "      <td>2</td>\n",
       "      <td>-0.213710</td>\n",
       "      <td>0.69225</td>\n",
       "      <td>1</td>\n",
       "    </tr>\n",
       "    <tr>\n",
       "      <td>3</td>\n",
       "      <td>-0.375000</td>\n",
       "      <td>0.50219</td>\n",
       "      <td>1</td>\n",
       "    </tr>\n",
       "    <tr>\n",
       "      <td>4</td>\n",
       "      <td>-0.513250</td>\n",
       "      <td>0.46564</td>\n",
       "      <td>1</td>\n",
       "    </tr>\n",
       "  </tbody>\n",
       "</table>\n",
       "</div>"
      ],
      "text/plain": [
       "     test_1   test_2  result\n",
       "0  0.051267  0.69956       1\n",
       "1 -0.092742  0.68494       1\n",
       "2 -0.213710  0.69225       1\n",
       "3 -0.375000  0.50219       1\n",
       "4 -0.513250  0.46564       1"
      ]
     },
     "execution_count": 11,
     "metadata": {},
     "output_type": "execute_result"
    }
   ],
   "source": [
    "path = './dataset'\n",
    "file_name = 'ex2data2.txt'\n",
    "dataset = pd.read_csv(os.path.join(path, file_name), header=None)\n",
    "dataset.columns = [\"test_1\",\"test_2\",\"result\"]\n",
    "dataset.head()"
   ]
  },
  {
   "cell_type": "code",
   "execution_count": 12,
   "metadata": {},
   "outputs": [
    {
     "name": "stdout",
     "output_type": "stream",
     "text": [
      "(118, 2)\n",
      "(118, 1)\n"
     ]
    }
   ],
   "source": [
    "featureset = dataset.values[:, :2]\n",
    "target = dataset.values[:, 2].reshape(-1, 1)\n",
    "print(featureset.shape)\n",
    "print(target.shape)"
   ]
  },
  {
   "cell_type": "code",
   "execution_count": 13,
   "metadata": {},
   "outputs": [
    {
     "data": {
      "text/plain": [
       "<matplotlib.legend.Legend at 0x7f37c4d7b990>"
      ]
     },
     "execution_count": 13,
     "metadata": {},
     "output_type": "execute_result"
    },
    {
     "data": {
      "image/png": "[encoded data removed]",
      "text/plain": [
       "<Figure size 432x288 with 1 Axes>"
      ]
     },
     "metadata": {
      "needs_background": "light"
     },
     "output_type": "display_data"
    }
   ],
   "source": [
    "ones = featureset[target[:,0]==1]\n",
    "zeros = featureset[target[:,0]==0]\n",
    "\n",
    "plt.scatter(ones[:,0], ones[:,1])\n",
    "plt.scatter(zeros[:,0], zeros[:, 1])\n",
    "\n",
    "plt.xlabel(\"Microchip Test-1\")\n",
    "plt.ylabel(\"Microchip Test-2\")\n",
    "plt.title(\"Plot of training Data\")\n",
    "plt.legend([\"accepted\",'rejected'])"
   ]
  },
  {
   "cell_type": "code",
   "execution_count": 14,
   "metadata": {},
   "outputs": [
    {
     "data": {
      "text/plain": [
       "(58, 2)"
      ]
     },
     "execution_count": 14,
     "metadata": {},
     "output_type": "execute_result"
    }
   ],
   "source": [
    "ones.shape"
   ]
  },
  {
   "cell_type": "code",
   "execution_count": 15,
   "metadata": {},
   "outputs": [],
   "source": [
    "def feature_mapping(X1, X2):\n",
    "    degree = 6\n",
    "    if X1.ndim > 0:\n",
    "            out = [np.ones(X1.shape[0])]\n",
    "    else:\n",
    "        out = [np.ones(1)]\n",
    "\n",
    "    for i in range(1, degree + 1):\n",
    "        for j in range(i + 1):\n",
    "            out.append((X1 ** (i - j)) * (X2 ** j))\n",
    "\n",
    "    if X1.ndim > 0:\n",
    "        return np.stack(out, axis=1)\n",
    "    else:\n",
    "        return np.array(out)"
   ]
  },
  {
   "cell_type": "code",
   "execution_count": 16,
   "metadata": {},
   "outputs": [],
   "source": [
    "def compute_regularized_cost(X, y, thetas, _lambda):\n",
    "    m = y.shape[0]\n",
    "#     print(X.shape)\n",
    "#     print(thetas.shape)\n",
    "    \n",
    "    Z = np.dot(X, thetas.T)\n",
    "    hx = sigmoid(Z)\n",
    "    error = -y*np.log(hx) - (1-y) * np.log(1-hx)\n",
    "    cost = (1/m) * np.sum(error, axis=0)\n",
    "    reg_cost = cost + _lambda/(2*m) * np.sum( np.power(thetas[:,1:], 2), axis=1 )\n",
    "    \n",
    "    grad_0 = np.dot( X[:,0].T, (hx-y) )/m\n",
    "#     print('======')\n",
    "#     print((np.dot(X[:,1:].T, (hx-y))/m).shape)\n",
    "#     print(((_lambda/m)*thetas[:, 1:]).shape)\n",
    "    grad_1 = (np.dot(X[:,1:].T, (hx-y))/m).T + ((_lambda/m)*thetas[:, 1:])\n",
    "#     print(grad_0.shape)\n",
    "#     print(grad_1.shape)\n",
    "    \n",
    "    grad = np.append(grad_0, grad_1.flatten()).reshape(1, -1)\n",
    "    \n",
    "    return reg_cost[0], grad"
   ]
  },
  {
   "cell_type": "code",
   "execution_count": 17,
   "metadata": {},
   "outputs": [],
   "source": [
    "def reg_gradient_descent(X, y, thetas, learning_rate, _lambda, iteraions):\n",
    "    costs = np.zeros(iterations)\n",
    "    \n",
    "    for i in range(iterations):\n",
    "        cost, grad = compute_regularized_cost(X, y, thetas, _lambda)\n",
    "        thetas = thetas - learning_rate * grad\n",
    "        costs[i] = cost\n",
    "    return costs, thetas"
   ]
  },
  {
   "cell_type": "code",
   "execution_count": 18,
   "metadata": {},
   "outputs": [],
   "source": [
    "mapped_feature = feature_mapping(featureset[:, 0], featureset[:, 1])\n"
   ]
  },
  {
   "cell_type": "code",
   "execution_count": 19,
   "metadata": {},
   "outputs": [],
   "source": [
    "X = mapped_feature\n",
    "y = target\n",
    "theta = np.zeros( (1,X.shape[1]) )\n",
    "iterations = 400\n",
    "learning_rate = 0.2\n",
    "_lambda = 1\n",
    "# costs, thetas = gradient_descent(X, y, theta, alpha, _lambda, iterations)\n",
    "cost, thetas = compute_regularized_cost( X, y, theta, _lambda)"
   ]
  },
  {
   "cell_type": "code",
   "execution_count": 20,
   "metadata": {},
   "outputs": [],
   "source": [
    "costs, up_thetas = reg_gradient_descent(X, y, theta, learning_rate, _lambda, iterations)"
   ]
  },
  {
   "cell_type": "code",
   "execution_count": 21,
   "metadata": {},
   "outputs": [
    {
     "data": {
      "text/plain": [
       "(1, 28)"
      ]
     },
     "execution_count": 21,
     "metadata": {},
     "output_type": "execute_result"
    }
   ],
   "source": [
    "up_thetas.shape"
   ]
  },
  {
   "cell_type": "code",
   "execution_count": 22,
   "metadata": {},
   "outputs": [
    {
     "data": {
      "text/plain": [
       "[<matplotlib.lines.Line2D at 0x7f37c4c6d950>]"
      ]
     },
     "execution_count": 22,
     "metadata": {},
     "output_type": "execute_result"
    },
    {
     "data": {
      "image/png": "[encoded data removed]",
      "text/plain": [
       "<Figure size 432x288 with 1 Axes>"
      ]
     },
     "metadata": {
      "needs_background": "light"
     },
     "output_type": "display_data"
    }
   ],
   "source": [
    "plt.plot(costs)"
   ]
  },
  {
   "cell_type": "code",
   "execution_count": 23,
   "metadata": {},
   "outputs": [],
   "source": [
    "def prediction(X, thetas):\n",
    "    p = sigmoid(np.dot(X, thetas.T))\n",
    "    return p>=0.5"
   ]
  },
  {
   "cell_type": "code",
   "execution_count": 24,
   "metadata": {},
   "outputs": [],
   "source": [
    "pred_y = prediction(X, up_thetas)"
   ]
  },
  {
   "cell_type": "code",
   "execution_count": 25,
   "metadata": {},
   "outputs": [
    {
     "data": {
      "text/plain": [
       "0.8220338983050848"
      ]
     },
     "execution_count": 25,
     "metadata": {},
     "output_type": "execute_result"
    }
   ],
   "source": [
    "np.mean(y==pred_y)"
   ]
  },
  {
   "cell_type": "code",
   "execution_count": 28,
   "metadata": {},
   "outputs": [
    {
     "data": {
      "text/plain": [
       "<matplotlib.legend.Legend at 0x7f37c4bc9b10>"
      ]
     },
     "execution_count": 28,
     "metadata": {},
     "output_type": "execute_result"
    },
    {
     "data": {
      "image/png": "[encoded data removed]",
      "text/plain": [
       "<Figure size 432x288 with 1 Axes>"
      ]
     },
     "metadata": {
      "needs_background": "light"
     },
     "output_type": "display_data"
    }
   ],
   "source": [
    "ones = featureset[target[:,0]==1]\n",
    "zeros = featureset[target[:,0]==0]\n",
    "\n",
    "\n",
    "plt.scatter(ones[:,0], ones[:,1])\n",
    "plt.scatter(zeros[:,0], zeros[:, 1])\n",
    "\n",
    "u = np.linspace(-1, 1.5, 50)\n",
    "v = np.linspace(-1, 1.5, 50)\n",
    "\n",
    "z = np.zeros((u.size, v.size))\n",
    "# Evaluate z = theta*x over the grid\n",
    "for i, ui in enumerate(u):\n",
    "    for j, vj in enumerate(v):\n",
    "        z[i, j] = np.dot(feature_mapping(ui, vj), up_thetas.flatten())\n",
    "\n",
    "z = z.T  # important to transpose z before calling contour\n",
    "# print(z)\n",
    "\n",
    "# Plot z = 0\n",
    "plt.contour(u, v, z, levels=[0], linewidths=2, colors='g')\n",
    "plt.contourf(u, v, z, levels=[np.min(z), 0, np.max(z)], cmap='Greens', alpha=0.4)\n",
    "\n",
    "plt.xlabel(\"Microchip Test-1\")\n",
    "plt.ylabel(\"Microchip Test-2\")\n",
    "plt.title(\"Plot of training Data\")\n",
    "plt.legend([\"accepted\",'rejected'])\n"
   ]
  },
  {
   "cell_type": "code",
   "execution_count": 29,
   "metadata": {},
   "outputs": [],
   "source": [
    "import tensorflow as tf"
   ]
  },
  {
   "cell_type": "code",
   "execution_count": 32,
   "metadata": {},
   "outputs": [
    {
     "data": {
      "text/plain": [
       "(118, 2)"
      ]
     },
     "execution_count": 32,
     "metadata": {},
     "output_type": "execute_result"
    }
   ],
   "source": [
    "print(featureset.shape)\n",
    "print(featureset)"
   ]
  },
  {
   "cell_type": "code",
   "execution_count": 31,
   "metadata": {},
   "outputs": [],
   "source": [
    "XX = tf.placeholder(tf.float32, name='XX')\n",
    "yy = tf.placeholder(tf.float32, name='yy')"
   ]
  },
  {
   "cell_type": "code",
   "execution_count": null,
   "metadata": {},
   "outputs": [],
   "source": [
    "thetas = tf.zeros()\n"
   ]
  }
 ],
 "metadata": {
  "kernelspec": {
   "display_name": "Python 3",
   "language": "python",
   "name": "python3"
  },
  "language_info": {
   "codemirror_mode": {
    "name": "ipython",
    "version": 3
   },
   "file_extension": ".py",
   "mimetype": "text/x-python",
   "name": "python",
   "nbconvert_exporter": "python",
   "pygments_lexer": "ipython3",
   "version": "3.7.4"
  }
 },
 "nbformat": 4,
 "nbformat_minor": 2
}
