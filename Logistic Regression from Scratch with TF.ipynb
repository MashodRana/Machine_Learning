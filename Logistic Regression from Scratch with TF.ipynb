{
 "cells": [
  {
   "cell_type": "markdown",
   "metadata": {},
   "source": [
    "# Logistic Regression from Scratch with TensorFlow"
   ]
  },
  {
   "cell_type": "code",
   "execution_count": 1,
   "metadata": {},
   "outputs": [],
   "source": [
    "import numpy as np\n",
    "import pandas as pd\n",
    "import os\n",
    "import matplotlib.pyplot as plt\n",
    "import tensorflow as tf\n",
    "from tqdm import tqdm"
   ]
  },
  {
   "cell_type": "markdown",
   "metadata": {},
   "source": [
    "## Non-regularized Logistic Regression"
   ]
  },
  {
   "cell_type": "markdown",
   "metadata": {},
   "source": [
    "### Fetch dataset\n",
    "#### Read dataset"
   ]
  },
  {
   "cell_type": "code",
   "execution_count": 2,
   "metadata": {},
   "outputs": [
    {
     "data": {
      "text/html": [
       "<div>\n",
       "<style scoped>\n",
       "    .dataframe tbody tr th:only-of-type {\n",
       "        vertical-align: middle;\n",
       "    }\n",
       "\n",
       "    .dataframe tbody tr th {\n",
       "        vertical-align: top;\n",
       "    }\n",
       "\n",
       "    .dataframe thead th {\n",
       "        text-align: right;\n",
       "    }\n",
       "</style>\n",
       "<table border=\"1\" class=\"dataframe\">\n",
       "  <thead>\n",
       "    <tr style=\"text-align: right;\">\n",
       "      <th></th>\n",
       "      <th>exam1</th>\n",
       "      <th>exam2</th>\n",
       "      <th>decision</th>\n",
       "    </tr>\n",
       "  </thead>\n",
       "  <tbody>\n",
       "    <tr>\n",
       "      <td>0</td>\n",
       "      <td>34.623660</td>\n",
       "      <td>78.024693</td>\n",
       "      <td>0</td>\n",
       "    </tr>\n",
       "    <tr>\n",
       "      <td>1</td>\n",
       "      <td>30.286711</td>\n",
       "      <td>43.894998</td>\n",
       "      <td>0</td>\n",
       "    </tr>\n",
       "    <tr>\n",
       "      <td>2</td>\n",
       "      <td>35.847409</td>\n",
       "      <td>72.902198</td>\n",
       "      <td>0</td>\n",
       "    </tr>\n",
       "    <tr>\n",
       "      <td>3</td>\n",
       "      <td>60.182599</td>\n",
       "      <td>86.308552</td>\n",
       "      <td>1</td>\n",
       "    </tr>\n",
       "    <tr>\n",
       "      <td>4</td>\n",
       "      <td>79.032736</td>\n",
       "      <td>75.344376</td>\n",
       "      <td>1</td>\n",
       "    </tr>\n",
       "  </tbody>\n",
       "</table>\n",
       "</div>"
      ],
      "text/plain": [
       "       exam1      exam2  decision\n",
       "0  34.623660  78.024693         0\n",
       "1  30.286711  43.894998         0\n",
       "2  35.847409  72.902198         0\n",
       "3  60.182599  86.308552         1\n",
       "4  79.032736  75.344376         1"
      ]
     },
     "execution_count": 2,
     "metadata": {},
     "output_type": "execute_result"
    }
   ],
   "source": [
    "path = './dataset'\n",
    "file_name = 'ex2data1.txt'\n",
    "dataset = pd.read_csv(os.path.join(path, file_name), header=None)\n",
    "dataset.columns = ['exam1', 'exam2', 'decision']\n",
    "dataset.head()"
   ]
  },
  {
   "cell_type": "markdown",
   "metadata": {},
   "source": [
    "#### Split dataset into featureset and target"
   ]
  },
  {
   "cell_type": "code",
   "execution_count": 3,
   "metadata": {},
   "outputs": [],
   "source": [
    "featureset = dataset.values[:,:2]\n",
    "target = dataset.values[:,2].reshape(-1,1)"
   ]
  },
  {
   "cell_type": "markdown",
   "metadata": {},
   "source": [
    "### Visualize Dataset\n",
    "#### Shape information of data"
   ]
  },
  {
   "cell_type": "code",
   "execution_count": 4,
   "metadata": {},
   "outputs": [
    {
     "name": "stdout",
     "output_type": "stream",
     "text": [
      "Shape of featureset:  (100, 2)\n",
      "Shape of target:  (100, 1)\n",
      "Number of feature:  2\n",
      "Nummber of training examples:  100\n"
     ]
    }
   ],
   "source": [
    "print(\"Shape of featureset: \", featureset.shape)\n",
    "print(\"Shape of target: \", target.shape)\n",
    "print(\"Number of feature: \", featureset.shape[1])\n",
    "print(\"Nummber of training examples: \",target.shape[0])"
   ]
  },
  {
   "cell_type": "markdown",
   "metadata": {},
   "source": [
    "#### Ploting data"
   ]
  },
  {
   "cell_type": "code",
   "execution_count": 5,
   "metadata": {},
   "outputs": [
    {
     "data": {
      "text/plain": [
       "Text(0.5, 1.0, 'Data Visulizations')"
      ]
     },
     "execution_count": 5,
     "metadata": {},
     "output_type": "execute_result"
    },
    {
     "data": {
      "image/png": "[encoded data removed]",
      "text/plain": [
       "<Figure size 432x288 with 1 Axes>"
      ]
     },
     "metadata": {
      "needs_background": "light"
     },
     "output_type": "display_data"
    }
   ],
   "source": [
    "zeros = target==0\n",
    "ones = target==1\n",
    "\n",
    "plt.scatter(featureset[ones[:,0], 0], featureset[ones[:, 0], 1], marker='+', color='g')\n",
    "plt.scatter(featureset[zeros[:,0], 0], featureset[zeros[:, 0], 1], marker=0, color='r')\n",
    "\n",
    "plt.xlabel('Exam1 Score')\n",
    "plt.ylabel('Exam2 Score')\n",
    "plt.legend([\"Passed in the exam\",\"Failled in the exam\"])\n",
    "plt.title(\"Data Visulizations\")"
   ]
  },
  {
   "cell_type": "markdown",
   "metadata": {},
   "source": [
    "### Building Logistic Regression\n",
    "#### Write necessary method"
   ]
  },
  {
   "cell_type": "code",
   "execution_count": 6,
   "metadata": {},
   "outputs": [],
   "source": [
    "def feature_normalization(X):\n",
    "    mean = np.mean(X, axis=0)\n",
    "    std = np.std(X, axis=0)\n",
    "    X_norm = (X-mean)/std\n",
    "    return X_norm, mean, std"
   ]
  },
  {
   "cell_type": "code",
   "execution_count": 7,
   "metadata": {},
   "outputs": [],
   "source": [
    "def sigmoid(z):\n",
    "    return 1/(1+tf.exp(-z))"
   ]
  },
  {
   "cell_type": "code",
   "execution_count": 8,
   "metadata": {},
   "outputs": [],
   "source": [
    "def compute_cost_grad(X, y, theta):\n",
    "    \n",
    "    # Number of training example\n",
    "    m = int(y.shape[0])\n",
    "    \n",
    "    # Calculate cost\n",
    "    z = tf.matmul(X, tf.transpose(theta)) # hypothesis\n",
    "    hx = sigmoid(z) # apply sigmoid function\n",
    "    cost = (1/m) * tf.reduce_sum( -y * tf.log(hx) - (1-y) * tf.log(1-hx) ,axis=0) # calculatinf cost\n",
    "    \n",
    "    # Calculate grad\n",
    "    grad = (1/m) * tf.matmul(tf.transpose(hx-y), X)\n",
    "    \n",
    "    return cost, grad\n",
    "    \n",
    "    "
   ]
  },
  {
   "cell_type": "code",
   "execution_count": 9,
   "metadata": {},
   "outputs": [],
   "source": [
    "def predictions(X, theta):\n",
    "    hx = sigmoid(tf.matmul(X, tf.transpose(theta)))\n",
    "    \n",
    "    return hx>=0.5"
   ]
  },
  {
   "cell_type": "code",
   "execution_count": 10,
   "metadata": {},
   "outputs": [],
   "source": [
    "def model(X, y, theta, lr, itr):\n",
    "    \n",
    "    # Number of training example\n",
    "    m = int(y.shape[0])\n",
    "    costs = []\n",
    "    \n",
    "    for i in tqdm(range(itr)):\n",
    "        cost, grad = compute_cost_grad(X, y, theta)\n",
    "        theta = theta - lr * grad\n",
    "        costs.append(cost)\n",
    "    \n",
    "    predicted = predictions(X, theta)\n",
    "    \n",
    "    parameters = {\n",
    "        'costs': costs,\n",
    "        'theta': theta,\n",
    "        'predicted': predicted\n",
    "    }\n",
    "    \n",
    "    return parameters\n"
   ]
  },
  {
   "cell_type": "markdown",
   "metadata": {},
   "source": [
    "#### Setup for model training"
   ]
  },
  {
   "cell_type": "code",
   "execution_count": 11,
   "metadata": {},
   "outputs": [
    {
     "name": "stderr",
     "output_type": "stream",
     "text": [
      "100%|██████████| 400/400 [00:09<00:00, 41.02it/s]\n"
     ]
    }
   ],
   "source": [
    "learning_rate = 0.0\n",
    "iterations = 400\n",
    "m = target.shape[0]\n",
    "x_norm, mean, std = feature_normalization(featureset)\n",
    "xtrain = np.hstack((np.ones((m,1)),x_norm))\n",
    "ytrain = target\n",
    "\n",
    "X = tf.placeholder(tf.float32, xtrain.shape)\n",
    "y = tf.placeholder(tf.float32, ytrain.shape)\n",
    "\n",
    "thetas = tf.Variable(tf.zeros((1,xtrain.shape[1]), tf.float32))\n",
    "\n",
    "training = model(X, y, theta=thetas, lr=learning_rate, itr=iterations)"
   ]
  },
  {
   "cell_type": "markdown",
   "metadata": {},
   "source": [
    "### Training model"
   ]
  },
  {
   "cell_type": "markdown",
   "metadata": {},
   "source": [
    "#### Traing with different learning rate"
   ]
  },
  {
   "cell_type": "code",
   "execution_count": 12,
   "metadata": {},
   "outputs": [
    {
     "name": "stderr",
     "output_type": "stream",
     "text": [
      "100%|██████████| 400/400 [00:09<00:00, 43.79it/s]\n",
      "100%|██████████| 400/400 [00:08<00:00, 44.80it/s]\n",
      "100%|██████████| 400/400 [00:09<00:00, 44.04it/s]\n",
      "100%|██████████| 400/400 [00:10<00:00, 39.71it/s]\n",
      "100%|██████████| 400/400 [00:08<00:00, 44.50it/s]\n"
     ]
    }
   ],
   "source": [
    "learning_rates = [0.01, 0.05, 0.1, 0.5, 1.0]\n",
    "\n",
    "results = []\n",
    "\n",
    "for lr in learning_rates:\n",
    "    training = model(X, y, theta=thetas, lr=lr, itr=iterations)\n",
    "    init = tf.global_variables_initializer()\n",
    "    with tf.Session() as sess:\n",
    "        sess.run(init)\n",
    "        result = sess.run(training, feed_dict={X:xtrain, y:ytrain})\n",
    "        results.append(result)"
   ]
  },
  {
   "cell_type": "code",
   "execution_count": 13,
   "metadata": {},
   "outputs": [
    {
     "data": {
      "image/png": "[encoded data removed]",
      "text/plain": [
       "<Figure size 432x288 with 1 Axes>"
      ]
     },
     "metadata": {
      "needs_background": "light"
     },
     "output_type": "display_data"
    }
   ],
   "source": [
    "for result in results:\n",
    "    plt.plot(result[\"costs\"])\n",
    "plt.xlabel(\"Iteration\")\n",
    "plt.ylabel(\"$J(\\Theta)$\")\n",
    "plt.title(\"Cost function using Gradient Descent\")\n",
    "plt.legend(learning_rates)\n",
    "plt.show()"
   ]
  },
  {
   "cell_type": "markdown",
   "metadata": {},
   "source": [
    "#### Result withe learning rate 0.1"
   ]
  },
  {
   "cell_type": "code",
   "execution_count": 14,
   "metadata": {},
   "outputs": [
    {
     "name": "stdout",
     "output_type": "stream",
     "text": [
      "Accuracy score:  0.9\n"
     ]
    }
   ],
   "source": [
    "predicted = results[2]['predicted']\n",
    "print('Accuracy score: ', np.mean(ytrain==predicted))"
   ]
  },
  {
   "cell_type": "markdown",
   "metadata": {},
   "source": [
    "#### Ploting decison boundary"
   ]
  },
  {
   "cell_type": "code",
   "execution_count": 15,
   "metadata": {},
   "outputs": [],
   "source": [
    "x_boundary = np.array([np.max(xtrain[:,1]), np.min(xtrain[:,1])]).reshape(-1,1)\n",
    "theta = results[2]['theta'].flatten()\n",
    "y_boundary = -(theta[0] + theta[1]*x_boundary)/theta[2]"
   ]
  },
  {
   "cell_type": "code",
   "execution_count": 16,
   "metadata": {},
   "outputs": [
    {
     "data": {
      "image/png": "[encoded data removed]",
      "text/plain": [
       "<Figure size 604.8x489.6 with 1 Axes>"
      ]
     },
     "metadata": {
      "needs_background": "light"
     },
     "output_type": "display_data"
    }
   ],
   "source": [
    "plt.figure(figsize=(8.4, 6.8))\n",
    "plt.scatter( xtrain[ ones[:,0], 1 ], xtrain[ ones[:,0], 2 ], marker='+', color='g' )\n",
    "plt.scatter( xtrain[ zeros[:,0], 1 ], xtrain[zeros[:,0],2] , marker=0, color='r')\n",
    "plt.plot(x_boundary,y_boundary)\n",
    "plt.xlabel('Exam1 Score')\n",
    "plt.ylabel('Exam2 Score')\n",
    "plt.legend([\"boundary\",\"Passed in the exam\",\"Fail in the exam\"])\n",
    "plt.title(\"Decision Boundary\")\n",
    "# plt.grid()\n",
    "plt.show()\n"
   ]
  },
  {
   "cell_type": "markdown",
   "metadata": {},
   "source": [
    "## Regularized Logistic Regression"
   ]
  },
  {
   "cell_type": "code",
   "execution_count": 17,
   "metadata": {},
   "outputs": [
    {
     "data": {
      "text/html": [
       "<div>\n",
       "<style scoped>\n",
       "    .dataframe tbody tr th:only-of-type {\n",
       "        vertical-align: middle;\n",
       "    }\n",
       "\n",
       "    .dataframe tbody tr th {\n",
       "        vertical-align: top;\n",
       "    }\n",
       "\n",
       "    .dataframe thead th {\n",
       "        text-align: right;\n",
       "    }\n",
       "</style>\n",
       "<table border=\"1\" class=\"dataframe\">\n",
       "  <thead>\n",
       "    <tr style=\"text-align: right;\">\n",
       "      <th></th>\n",
       "      <th>test_1</th>\n",
       "      <th>test_2</th>\n",
       "      <th>result</th>\n",
       "    </tr>\n",
       "  </thead>\n",
       "  <tbody>\n",
       "    <tr>\n",
       "      <td>0</td>\n",
       "      <td>0.051267</td>\n",
       "      <td>0.69956</td>\n",
       "      <td>1</td>\n",
       "    </tr>\n",
       "    <tr>\n",
       "      <td>1</td>\n",
       "      <td>-0.092742</td>\n",
       "      <td>0.68494</td>\n",
       "      <td>1</td>\n",
       "    </tr>\n",
       "    <tr>\n",
       "      <td>2</td>\n",
       "      <td>-0.213710</td>\n",
       "      <td>0.69225</td>\n",
       "      <td>1</td>\n",
       "    </tr>\n",
       "    <tr>\n",
       "      <td>3</td>\n",
       "      <td>-0.375000</td>\n",
       "      <td>0.50219</td>\n",
       "      <td>1</td>\n",
       "    </tr>\n",
       "    <tr>\n",
       "      <td>4</td>\n",
       "      <td>-0.513250</td>\n",
       "      <td>0.46564</td>\n",
       "      <td>1</td>\n",
       "    </tr>\n",
       "  </tbody>\n",
       "</table>\n",
       "</div>"
      ],
      "text/plain": [
       "     test_1   test_2  result\n",
       "0  0.051267  0.69956       1\n",
       "1 -0.092742  0.68494       1\n",
       "2 -0.213710  0.69225       1\n",
       "3 -0.375000  0.50219       1\n",
       "4 -0.513250  0.46564       1"
      ]
     },
     "execution_count": 17,
     "metadata": {},
     "output_type": "execute_result"
    }
   ],
   "source": [
    "# Load Dataset\n",
    "path = \"./dataset\"\n",
    "dataset = pd.read_csv(os.path.join(path,'ex2data2.txt'),header=None)\n",
    "dataset.columns = [\"test_1\",\"test_2\",\"result\"]\n",
    "dataset.head()"
   ]
  },
  {
   "cell_type": "code",
   "execution_count": 18,
   "metadata": {},
   "outputs": [],
   "source": [
    "featureset = dataset.values[:,:2]\n",
    "target = dataset.values[:,2].reshape(-1,1)"
   ]
  },
  {
   "cell_type": "code",
   "execution_count": 19,
   "metadata": {},
   "outputs": [
    {
     "data": {
      "text/plain": [
       "<matplotlib.legend.Legend at 0x7fb634023dd0>"
      ]
     },
     "execution_count": 19,
     "metadata": {},
     "output_type": "execute_result"
    },
    {
     "data": {
      "image/png": "[encoded data removed]",
      "text/plain": [
       "<Figure size 432x288 with 1 Axes>"
      ]
     },
     "metadata": {
      "needs_background": "light"
     },
     "output_type": "display_data"
    }
   ],
   "source": [
    "# Visualize the data\n",
    "ones = target==1\n",
    "zeros = target==0\n",
    "plt.scatter(featureset[ones[:,0],0], featureset[ones[:,0],1])\n",
    "plt.scatter(featureset[zeros[:,0],0], featureset[zeros[:,0],1])\n",
    "plt.xlabel(\"Microchip Test-1\")\n",
    "plt.ylabel(\"Microchip Test-2\")\n",
    "plt.title(\"Plot of training Data\")\n",
    "plt.legend([\"accepted\",'rejected'])"
   ]
  },
  {
   "cell_type": "markdown",
   "metadata": {},
   "source": [
    "#### Necessary method implementations"
   ]
  },
  {
   "cell_type": "code",
   "execution_count": 20,
   "metadata": {},
   "outputs": [],
   "source": [
    "def feature_mapping(x1, x2):\n",
    "    degree = 6\n",
    "    if x1.ndim > 0:\n",
    "        out = [np.ones(x1.shape[0])]\n",
    "    else:\n",
    "        out = [np.ones(1)]\n",
    "    \n",
    "    for i in range(degree+1):\n",
    "        for j in range(i+1):\n",
    "            out.append( ( x1 **(i-j) ) * (x2**j) )\n",
    "    \n",
    "    if x1.ndim>0:\n",
    "        return np.stack(out, axis=1)\n",
    "    else:\n",
    "        return np.array(out)\n"
   ]
  },
  {
   "cell_type": "code",
   "execution_count": 21,
   "metadata": {},
   "outputs": [],
   "source": [
    "def compute_reg_cost_grad(m, X, y, theta, _lambda):\n",
    "    z = tf.matmul( X, tf.transpose(theta) )\n",
    "#     hx = tf.sigmoid(z)\n",
    "    hx = sigmoid(z)\n",
    "    error = -y*tf.log(hx) - (1-y)*tf.log(1-hx)\n",
    "    cost = (1/m) * tf.reduce_sum(error, axis=0)\n",
    "    reg_term = (_lambda/(2*m)) * tf.reduce_sum(tf.pow(theta[:, 1:], 2), axis=1)\n",
    "    reg_cost = cost + reg_term\n",
    "\n",
    "    grad_0 =  tf.matmul(tf.transpose(hx-y), tf.reshape(X[:,0], (-1,1)))/m\n",
    "    grad_1 = tf.matmul(tf.transpose(hx-y), X[:,1:] )/m\n",
    "    reg_term = (_lambda/m) * theta[:, 1:]\n",
    "#     print(grad_1.shape)\n",
    "#     print(reg_term.shape)\n",
    "    grad_1 = grad_1 + reg_term\n",
    "    reg_grad = tf.concat([grad_0, grad_1], axis=1)\n",
    "\n",
    "    return reg_cost, reg_grad"
   ]
  },
  {
   "cell_type": "code",
   "execution_count": 22,
   "metadata": {},
   "outputs": [],
   "source": [
    "def predictions(X, theta):\n",
    "    pred = tf.sigmoid(tf.matmul(X, tf.transpose(theta)))\n",
    "    return pred >=0.5"
   ]
  },
  {
   "cell_type": "code",
   "execution_count": 23,
   "metadata": {},
   "outputs": [],
   "source": [
    "def model(m, X, y, theta, lr, _lambda, itr):\n",
    "    costs = []\n",
    "    for i in tqdm(range(itr)):\n",
    "        cost, grad = compute_reg_cost_grad(m, X, y, theta, _lambda)\n",
    "        theta = theta - lr * grad\n",
    "        costs.append(cost)\n",
    "        \n",
    "    predicted = predictions(X, theta)\n",
    "    parameters = {\n",
    "        'costs': costs,\n",
    "        'theta': theta,\n",
    "        'predicted': predicted\n",
    "    }\n",
    "    return parameters"
   ]
  },
  {
   "cell_type": "markdown",
   "metadata": {},
   "source": [
    "#### Setup for training"
   ]
  },
  {
   "cell_type": "code",
   "execution_count": 24,
   "metadata": {},
   "outputs": [
    {
     "name": "stderr",
     "output_type": "stream",
     "text": [
      "100%|██████████| 500/500 [00:24<00:00, 20.16it/s]\n"
     ]
    }
   ],
   "source": [
    "m = target.shape[0]\n",
    "_lambda = 1\n",
    "learning_rate = 0.2\n",
    "iterations = 500\n",
    "\n",
    "xtrain = feature_mapping(featureset[:, 0], featureset[:, 1])\n",
    "ytrain = target\n",
    "\n",
    "X = tf.placeholder(tf.float32, xtrain.shape)\n",
    "y = tf.placeholder(tf.float32, ytrain.shape)\n",
    "\n",
    "theta = tf.Variable(tf.zeros((1,xtrain.shape[1]), tf.float32))\n",
    "\n",
    "training = model(m, X, y, theta, lr=learning_rate, _lambda=_lambda, itr=iterations)\n"
   ]
  },
  {
   "cell_type": "markdown",
   "metadata": {},
   "source": [
    "#### Training"
   ]
  },
  {
   "cell_type": "code",
   "execution_count": 25,
   "metadata": {},
   "outputs": [],
   "source": [
    "init = tf.global_variables_initializer()\n",
    "with tf.Session() as sess:\n",
    "    sess.run(init)\n",
    "    result = sess.run(training, feed_dict={X:xtrain, y:ytrain})\n"
   ]
  },
  {
   "cell_type": "markdown",
   "metadata": {},
   "source": [
    "#### Plot cost function"
   ]
  },
  {
   "cell_type": "code",
   "execution_count": 26,
   "metadata": {},
   "outputs": [
    {
     "data": {
      "text/plain": [
       "Text(0.5, 1.0, 'Cost reducing graph per iteration')"
      ]
     },
     "execution_count": 26,
     "metadata": {},
     "output_type": "execute_result"
    },
    {
     "data": {
      "image/png": "[encoded data removed]",
      "text/plain": [
       "<Figure size 432x288 with 1 Axes>"
      ]
     },
     "metadata": {
      "needs_background": "light"
     },
     "output_type": "display_data"
    }
   ],
   "source": [
    "plt.plot(result['costs'])\n",
    "plt.xlabel('# iterations')\n",
    "plt.ylabel('# cost')\n",
    "plt.title('Cost reducing graph per iteration')"
   ]
  },
  {
   "cell_type": "markdown",
   "metadata": {},
   "source": [
    "#### Accuracy calculation"
   ]
  },
  {
   "cell_type": "code",
   "execution_count": 27,
   "metadata": {},
   "outputs": [
    {
     "name": "stdout",
     "output_type": "stream",
     "text": [
      "Training accuracy:  0.8305084745762712\n"
     ]
    }
   ],
   "source": [
    "print(\"Training accuracy: \",np.mean(ytrain==result['predicted']))"
   ]
  },
  {
   "cell_type": "markdown",
   "metadata": {},
   "source": [
    "#### Visualize learned decesion boundary"
   ]
  },
  {
   "cell_type": "code",
   "execution_count": 28,
   "metadata": {},
   "outputs": [
    {
     "data": {
      "text/plain": [
       "<matplotlib.legend.Legend at 0x7fb623084250>"
      ]
     },
     "execution_count": 28,
     "metadata": {},
     "output_type": "execute_result"
    },
    {
     "data": {
      "image/png": "[encoded data removed]",
      "text/plain": [
       "<Figure size 432x288 with 1 Axes>"
      ]
     },
     "metadata": {
      "needs_background": "light"
     },
     "output_type": "display_data"
    }
   ],
   "source": [
    "up_thetas = result['theta']\n",
    "ones = featureset[target[:,0]==1]\n",
    "zeros = featureset[target[:,0]==0]\n",
    "\n",
    "\n",
    "plt.scatter(ones[:,0], ones[:,1])\n",
    "plt.scatter(zeros[:,0], zeros[:, 1])\n",
    "\n",
    "u = np.linspace(-1, 1.5, 50)\n",
    "v = np.linspace(-1, 1.5, 50)\n",
    "\n",
    "z = np.zeros((u.size, v.size))\n",
    "# Evaluate z = theta*x over the grid\n",
    "for i, ui in enumerate(u):\n",
    "    for j, vj in enumerate(v):\n",
    "        z[i, j] = np.dot(feature_mapping(ui, vj), up_thetas.flatten())\n",
    "\n",
    "z = z.T  # important to transpose z before calling contour\n",
    "# print(z)\n",
    "\n",
    "# Plot z = 0\n",
    "plt.contour(u, v, z, levels=[0], linewidths=2, colors='g')\n",
    "plt.contourf(u, v, z, levels=[np.min(z), 0, np.max(z)], cmap='Greens', alpha=0.4)\n",
    "\n",
    "plt.xlabel(\"Microchip Test-1\")\n",
    "plt.ylabel(\"Microchip Test-2\")\n",
    "plt.title(\"Plot of training Data\")\n",
    "plt.legend([\"accepted\",'rejected'])"
   ]
  },
  {
   "cell_type": "code",
   "execution_count": null,
   "metadata": {},
   "outputs": [],
   "source": []
  }
 ],
 "metadata": {
  "kernelspec": {
   "display_name": "Python 3",
   "language": "python",
   "name": "python3"
  },
  "language_info": {
   "codemirror_mode": {
    "name": "ipython",
    "version": 3
   },
   "file_extension": ".py",
   "mimetype": "text/x-python",
   "name": "python",
   "nbconvert_exporter": "python",
   "pygments_lexer": "ipython3",
   "version": "3.7.4"
  }
 },
 "nbformat": 4,
 "nbformat_minor": 2
}
